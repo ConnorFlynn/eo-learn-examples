{
 "cells": [
  {
   "cell_type": "code",
   "execution_count": 8,
   "id": "db8886c5-be68-4016-9310-82ea20421bd4",
   "metadata": {},
   "outputs": [
    {
     "name": "stdout",
     "output_type": "stream",
     "text": [
      "GeoDataFrame head:\n",
      "                                            geometry  name\n",
      "0  POLYGON ((-158.30000 21.20000, -157.60000 21.2...  Oahu\n",
      "Shapefile created successfully at oahu_boundary.shp\n"
     ]
    }
   ],
   "source": [
    "import geopandas as gpd\n",
    "from shapely.geometry import Polygon\n",
    "\n",
    "# Coordinates for a simplified bounding box of Oahu, Hawaii\n",
    "oahu_coordinates = [\n",
    "    (-158.3, 21.2),  # Southwest corner\n",
    "    (-157.6, 21.2),  # Southeast corner\n",
    "    (-157.6, 21.8),  # Northeast corner\n",
    "    (-158.3, 21.8),  # Northwest corner\n",
    "    (-158.3, 21.2)   # Closing the polygon\n",
    "]\n",
    "\n",
    "# Create a Polygon from the coordinates\n",
    "oahu_polygon = Polygon(oahu_coordinates)\n",
    "\n",
    "# Create a GeoDataFrame with the Polygon\n",
    "oahu_gdf = gpd.GeoDataFrame([{'geometry': oahu_polygon, 'name': 'Oahu'}], crs=\"EPSG:4326\")\n",
    "\n",
    "# Diagnostic checks\n",
    "print(\"GeoDataFrame head:\")\n",
    "print(oahu_gdf.head())\n",
    "\n",
    "# Save the GeoDataFrame as a Shapefile\n",
    "shapefile_path = 'oahu_boundary.shp'\n",
    "oahu_gdf.to_file(shapefile_path, driver='ESRI Shapefile')\n",
    "\n",
    "print(f\"Shapefile created successfully at {shapefile_path}\")\n"
   ]
  },
  {
   "cell_type": "code",
   "execution_count": 4,
   "id": "5ebb8c22-ac10-4a2a-a2f8-6697de9fb745",
   "metadata": {},
   "outputs": [
    {
     "name": "stdout",
     "output_type": "stream",
     "text": [
      "GeoPackage created successfully at oahu_hawaii.gpkg\n"
     ]
    }
   ],
   "source": [
    "# Path to the downloaded Shapefile\n",
    "downloaded_shapefile = 'oahu_boundary.shp'\n",
    "\n",
    "# Load the Shapefile\n",
    "oahu_gdf = gpd.read_file(downloaded_shapefile)\n",
    "\n",
    "# Save as GeoPackage (optional)\n",
    "output_gpkg = 'oahu_hawaii.gpkg'\n",
    "oahu_gdf.to_file(output_gpkg, layer='Oahu_Boundary', driver='GPKG')\n",
    "\n",
    "print(f\"GeoPackage created successfully at {output_gpkg}\")"
   ]
  },
  {
   "cell_type": "code",
   "execution_count": 7,
   "id": "5f66db1e-4f01-4918-bf3d-70a7a691ca08",
   "metadata": {},
   "outputs": [
    {
     "name": "stdout",
     "output_type": "stream",
     "text": [
      "GeoPackage created successfully with Oahu_Boundary layer\n"
     ]
    },
    {
     "data": {
      "image/png": "[encoded data removed]",
      "text/plain": [
       "<Figure size 1000x1000 with 1 Axes>"
      ]
     },
     "metadata": {},
     "output_type": "display_data"
    }
   ],
   "source": [
    "import geopandas as gpd\n",
    "from shapely.geometry import Polygon\n",
    "import matplotlib.pyplot as plt\n",
    "\n",
    "# More accurate coordinates for the approximate boundary of Oahu, Hawaii\n",
    "oahu_coordinates = [\n",
    "    (-158.276, 21.254),  # Example coordinate points\n",
    "    (-157.675, 21.254),\n",
    "    (-157.675, 21.714),\n",
    "    (-158.276, 21.714),\n",
    "    (-158.276, 21.254)   # Closing the polygon\n",
    "]\n",
    "\n",
    "# Create a Polygon from the coordinates\n",
    "oahu_polygon = Polygon(oahu_coordinates)\n",
    "\n",
    "# Create a GeoDataFrame with the Polygon\n",
    "oahu_gdf = gpd.GeoDataFrame([{'geometry': oahu_polygon, 'name': 'Oahu'}], crs=\"EPSG:4326\")\n",
    "\n",
    "# Save the GeoDataFrame as a GeoPackage with the specified layer name\n",
    "output_gpkg = 'oahu_hawaii.gpkg'\n",
    "oahu_gdf.to_file(output_gpkg, layer='Oahu_Boundary', driver='GPKG')\n",
    "\n",
    "print(\"GeoPackage created successfully with Oahu_Boundary layer\")\n",
    "\n",
    "# Read the GeoPackage file and plot it\n",
    "geo_file = \"oahu_hawaii.gpkg\"\n",
    "aoi_gdf = gpd.read_file(geo_file, layer=\"Oahu_Boundary\")\n",
    "\n",
    "# Plot the GeoDataFrame\n",
    "fig, ax = plt.subplots(1, 1, figsize=(10, 10))\n",
    "aoi_gdf.plot(ax=ax, color='blue', edgecolor='black')\n",
    "ax.set_title(\"Oahu Boundary\")\n",
    "plt.axis('off')\n",
    "\n",
    "# Calculate the bounding box manually\n",
    "minx, miny = aoi_gdf.geometry.total_bounds[:2]\n",
    "maxx, maxy = aoi_gdf.geometry.total_bounds[2:]\n",
    "\n",
    "# Set axis limits to the bounding box of the geometry\n",
    "ax.set_xlim(minx, maxx)\n",
    "ax.set_ylim(miny, maxy)\n",
    "\n",
    "plt.show()\n",
    "\n"
   ]
  },
  {
   "cell_type": "code",
   "execution_count": null,
   "id": "42aa5073-8c69-44ab-b3c0-73301310dcfc",
   "metadata": {},
   "outputs": [],
   "source": []
  }
 ],
 "metadata": {
  "kernelspec": {
   "display_name": "Python 3 (ipykernel)",
   "language": "python",
   "name": "python3"
  },
  "language_info": {
   "codemirror_mode": {
    "name": "ipython",
    "version": 3
   },
   "file_extension": ".py",
   "mimetype": "text/x-python",
   "name": "python",
   "nbconvert_exporter": "python",
   "pygments_lexer": "ipython3",
   "version": "3.11.7"
  }
 },
 "nbformat": 4,
 "nbformat_minor": 5
}
