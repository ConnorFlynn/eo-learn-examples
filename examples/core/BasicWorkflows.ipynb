{
 "cells": [
  {
   "cell_type": "markdown",
   "metadata": {},
   "source": [
    "# Workflows and Tasks\n",
    "\n",
    "This example notebook shows how to build a very generic workflow with many inputs and dependecies. In order to keep the example short and easy to follow the workflow performs basic algebraic operation instead of executing an Earth observation processing chain. \n",
    "\n",
    "The algebraic operation is: $A*B + C + 2$"
   ]
  },
  {
   "cell_type": "code",
   "execution_count": 1,
   "metadata": {},
   "outputs": [],
   "source": [
    "from eolearn.core import EOTask, EOWorkflow, Dependency"
   ]
  },
  {
   "cell_type": "markdown",
   "metadata": {},
   "source": [
    "## Step 1: Define/Implement EOTasks\n",
    "\n",
    "Typically this step is not necessary since the `eolearn` library already provides a set of Earth observation tasks. But for our generic example we need to implement them. As you can see, the implementation of `EOTask` is very easy and introduces almost no overhead."
   ]
  },
  {
   "cell_type": "markdown",
   "metadata": {},
   "source": [
    "### Input task\n",
    "\n",
    "The purpose of input task is to create input dataobjects on which the subsequent tasks will be executed. In our simple example the dataobject is a *number* so we simply need to implement a task that returns a number. The value of this number can be specified by a user. \n",
    "\n",
    "In Earth observation application the tasks operate with `EOPatch`es."
   ]
  },
  {
   "cell_type": "code",
   "execution_count": 2,
   "metadata": {},
   "outputs": [],
   "source": [
    "class InputNumber(EOTask):\n",
    "    \"\"\"\n",
    "    The task returns the user specified input number. \n",
    "    \"\"\"\n",
    "    def execute(self, *, input_number):\n",
    "        \"\"\"\n",
    "        Return the input_number.\n",
    "        \"\"\"\n",
    "        return input_number"
   ]
  },
  {
   "cell_type": "markdown",
   "metadata": {},
   "source": [
    "### Add constant\n",
    "\n",
    "In the above task the user can specify a new input number each time the workflow (and all the tasks in it) are executed. In some cases the input is the same (i.e. constant) for all executions. In such cases, task specific parameter can be used."
   ]
  },
  {
   "cell_type": "code",
   "execution_count": 3,
   "metadata": {},
   "outputs": [],
   "source": [
    "class AddConstant(EOTask):\n",
    "    \"\"\"\n",
    "    The task adds a task-specific constant value to the input dataobject and returns the sum.\n",
    "    \"\"\"\n",
    "    def __init__(self, constant):\n",
    "        self.constant = constant\n",
    "        \n",
    "    def execute(self, number):\n",
    "        \"\"\"\n",
    "        Add constant to input and return the sum.\n",
    "        \"\"\"\n",
    "        return number+self.constant"
   ]
  },
  {
   "cell_type": "markdown",
   "metadata": {},
   "source": [
    "### Multiply two numbers\n",
    "\n",
    "The tasks can have more than one input, like in the case of the multiplication task."
   ]
  },
  {
   "cell_type": "code",
   "execution_count": 4,
   "metadata": {},
   "outputs": [],
   "source": [
    "class Multiply(EOTask):\n",
    "    def execute(self, x, y):\n",
    "        \"\"\"\n",
    "        Return the product of two inputs.\n",
    "        \"\"\"\n",
    "        return x * y"
   ]
  },
  {
   "cell_type": "markdown",
   "metadata": {},
   "source": [
    "### Sum numbers\n",
    "\n",
    "The tasks can have even more inputs."
   ]
  },
  {
   "cell_type": "code",
   "execution_count": 5,
   "metadata": {},
   "outputs": [],
   "source": [
    "class Sum(EOTask):\n",
    "    def execute(self, *numbers):\n",
    "        \"\"\"\n",
    "        Return the sum of all inputs.\n",
    "        \"\"\"\n",
    "        return sum(numbers)"
   ]
  },
  {
   "cell_type": "markdown",
   "metadata": {},
   "source": [
    "## Step 2: Initialize tasks\n",
    "\n",
    "The algebraic operation that we want to execute is $A*B + C + 2$. This operation has three inputs and performs three operations:\n",
    "   * multiplies $A$ and $B$\n",
    "   * adds 2 to $C$\n",
    "   * and adds everything up\n",
    "   \n",
    "Each input and each operation require their own task instance."
   ]
  },
  {
   "cell_type": "code",
   "execution_count": 6,
   "metadata": {},
   "outputs": [],
   "source": [
    "in_a = InputNumber()\n",
    "in_b = InputNumber()\n",
    "in_c = InputNumber()\n",
    "add_2 = AddConstant(2)\n",
    "multi_ab= Multiply()\n",
    "sum_all = Sum()"
   ]
  },
  {
   "cell_type": "markdown",
   "metadata": {},
   "source": [
    "## Step 3: Define workflow \n",
    "\n",
    "Chain the tasks into a directed acyclic graph.\n",
    "\n",
    "The input tasks have no inputs, since they don't depend on the result of any other task. The multiplication task ($A*B$) depends on the result of input tasks `in_a` ($A$) and `in_b` ($B$), and so on.\n",
    "\n",
    "The `task_names` argument in the `EOWorkflow` initialisation is optional. It's added to make the graphs more human readable."
   ]
  },
  {
   "cell_type": "code",
   "execution_count": 7,
   "metadata": {},
   "outputs": [],
   "source": [
    "dag = EOWorkflow(dependencies=[\n",
    "                    Dependency(transform=in_a, inputs=[]),\n",
    "                    Dependency(transform=in_b, inputs=[]),\n",
    "                    Dependency(transform=in_c, inputs=[]),\n",
    "                    Dependency(transform=multi_ab, inputs=[in_a, in_b]),\n",
    "                    Dependency(transform=add_2, inputs=[in_c]),\n",
    "                    Dependency(transform=sum_all, inputs=[multi_ab, add_2])],\n",
    "                 task_names={in_a:'A', in_b:'B', in_c:'C', \n",
    "                          multi_ab:'A*B', add_2:'C+2', sum_all:'Sum'}\n",
    "                )"
   ]
  },
  {
   "cell_type": "markdown",
   "metadata": {},
   "source": [
    "#### Lets look into execution order, dependencies, etc.."
   ]
  },
  {
   "cell_type": "markdown",
   "metadata": {},
   "source": [
    "The graph is linearized and the execution of tasks is done one at the time. "
   ]
  },
  {
   "cell_type": "code",
   "execution_count": 8,
   "metadata": {},
   "outputs": [
    {
     "data": {
      "text/plain": [
       "['B', 'C', 'C+2', 'A', 'A*B', 'Sum']"
      ]
     },
     "execution_count": 8,
     "metadata": {},
     "output_type": "execute_result"
    }
   ],
   "source": [
    "dag.order"
   ]
  },
  {
   "cell_type": "markdown",
   "metadata": {},
   "source": [
    "Show on how many inputs each task depends on:"
   ]
  },
  {
   "cell_type": "code",
   "execution_count": 9,
   "metadata": {},
   "outputs": [
    {
     "data": {
      "text/plain": [
       "defaultdict(int, {'A': 0, 'A*B': 2, 'B': 0, 'C': 0, 'C+2': 1, 'Sum': 2})"
      ]
     },
     "execution_count": 9,
     "metadata": {},
     "output_type": "execute_result"
    }
   ],
   "source": [
    "dag.dag.get_indegrees()"
   ]
  },
  {
   "cell_type": "markdown",
   "metadata": {},
   "source": [
    "Visualize the graph:"
   ]
  },
  {
   "cell_type": "code",
   "execution_count": 10,
   "metadata": {},
   "outputs": [
    {
     "data": {
      "image/png": "[encoded data removed]",
      "text/plain": [
       "<Figure size 432x288 with 1 Axes>"
      ]
     },
     "metadata": {},
     "output_type": "display_data"
    }
   ],
   "source": [
    "dag.dependency_graph('index.dot', view=True)"
   ]
  },
  {
   "cell_type": "markdown",
   "metadata": {},
   "source": [
    "Better visualisation with `graphviz` (only works if you have it installed). Next cell will create an index.dot.png image."
   ]
  },
  {
   "cell_type": "code",
   "execution_count": 11,
   "metadata": {},
   "outputs": [],
   "source": [
    "!dot -O -Tpng index.dot "
   ]
  },
  {
   "cell_type": "markdown",
   "metadata": {},
   "source": [
    "## Step 4: Execute the workflow\n",
    "\n",
    "In our example we have to provide the values of $A$, $B$, and $C$:"
   ]
  },
  {
   "cell_type": "code",
   "execution_count": 12,
   "metadata": {},
   "outputs": [
    {
     "data": {
      "text/plain": [
       "{'Sum': 19}"
      ]
     },
     "execution_count": 12,
     "metadata": {},
     "output_type": "execute_result"
    }
   ],
   "source": [
    "dag.execute({'A':{'input_number':5},\n",
    "             'B':{'input_number':3},\n",
    "             'C':{'input_number':2}})"
   ]
  },
  {
   "cell_type": "markdown",
   "metadata": {},
   "source": [
    "Execute the same workflow on a different input:"
   ]
  },
  {
   "cell_type": "code",
   "execution_count": 13,
   "metadata": {},
   "outputs": [
    {
     "data": {
      "text/plain": [
       "{'Sum': 0}"
      ]
     },
     "execution_count": 13,
     "metadata": {},
     "output_type": "execute_result"
    }
   ],
   "source": [
    "dag.execute({'A':{'input_number':1},\n",
    "             'B':{'input_number':1},\n",
    "             'C':{'input_number':-3}})"
   ]
  }
 ],
 "metadata": {
  "kernelspec": {
   "display_name": "Python 3",
   "language": "python",
   "name": "python3"
  },
  "language_info": {
   "codemirror_mode": {
    "name": "ipython",
    "version": 3
   },
   "file_extension": ".py",
   "mimetype": "text/x-python",
   "name": "python",
   "nbconvert_exporter": "python",
   "pygments_lexer": "ipython3",
   "version": "3.5.3"
  }
 },
 "nbformat": 4,
 "nbformat_minor": 2
}
