{
 "cells": [
  {
   "cell_type": "markdown",
   "metadata": {},
   "source": [
    "# Workflow example to generate timelapses"
   ]
  },
  {
   "cell_type": "markdown",
   "metadata": {},
   "source": [
    "This example illustrates how to use an `EOWorkflow` to create time-lapses"
   ]
  },
  {
   "cell_type": "markdown",
   "metadata": {},
   "source": [
    "### Create cloudless timelapse"
   ]
  },
  {
   "cell_type": "markdown",
   "metadata": {},
   "source": [
    "Imports from `sentinelhub` and `eolearn` to set up workflow that creates a timelapse"
   ]
  },
  {
   "cell_type": "code",
   "execution_count": 1,
   "metadata": {},
   "outputs": [],
   "source": [
    "from sentinelhub import BBox, CRS, MimeType, CustomUrlParam\n",
    "import numpy as np\n",
    "import datetime"
   ]
  },
  {
   "cell_type": "code",
   "execution_count": 2,
   "metadata": {},
   "outputs": [],
   "source": [
    "from eolearn.mask import AddCloudMaskTask, get_s2_pixel_cloud_detector\n",
    "from eolearn.core import EOPatch, FeatureType, EOWorkflow\n",
    "from eolearn.features import SimpleFilterTask\n",
    "from eolearn.io import S2L1CWCSInput"
   ]
  },
  {
   "cell_type": "markdown",
   "metadata": {},
   "source": [
    "Set up BBox of ROI and time interval"
   ]
  },
  {
   "cell_type": "code",
   "execution_count": 3,
   "metadata": {},
   "outputs": [],
   "source": [
    "roi_bbox = BBox(bbox=[5.60, 52.68, 5.75, 52.63], crs=CRS.WGS84)\n",
    "time_interval = ('2017-01-01', '2018-05-01')"
   ]
  },
  {
   "cell_type": "markdown",
   "metadata": {},
   "source": [
    "This predicate function filters the images with a cloud coverage larger than a threshold to ensure images do not contain cloudy pixels"
   ]
  },
  {
   "cell_type": "code",
   "execution_count": 4,
   "metadata": {},
   "outputs": [],
   "source": [
    "class MaxCCPredicate:\n",
    "    def __init__(self, maxcc):\n",
    "        self.maxcc = maxcc\n",
    "\n",
    "    def __call__(self, img_cm):\n",
    "        w, h, _ = img_cm.shape\n",
    "        cc = np.sum(img_cm) / (w * h)\n",
    "        return cc <= self.maxcc"
   ]
  },
  {
   "cell_type": "markdown",
   "metadata": {},
   "source": [
    "Tasks of the workflow:\n",
    " * download S2 images (all 13 bands)\n",
    " * run `s2cloudless` to compute cloud masks\n",
    " * filter out images with cloud coverage larger than a given threshold (e.g. 0.05)"
   ]
  },
  {
   "cell_type": "code",
   "execution_count": 5,
   "metadata": {},
   "outputs": [],
   "source": [
    "wcs_task = S2L1CWCSInput(layer='BANDS-S2-L1C', \n",
    "                         feature_name='BANDS-S2-L1C', \n",
    "                         resx='20m',\n",
    "                         resy='20m',\n",
    "                         time_difference=datetime.timedelta(hours=2))\n",
    "\n",
    "cloud_classifier = get_s2_pixel_cloud_detector(all_bands=True)\n",
    "add_clm = AddCloudMaskTask(cloud_classifier, \n",
    "                           'BANDS-S2-L1C', \n",
    "                           cm_size_y='60m',\n",
    "                           cm_size_x='60m', \n",
    "                           cmask_field='clm', \n",
    "                           cprobs_field='clp')\n",
    "\n",
    "filter_task = SimpleFilterTask(predicate=MaxCCPredicate(maxcc=0.05), FeatureType.MASK, 'clm')"
   ]
  },
  {
   "cell_type": "markdown",
   "metadata": {},
   "source": [
    "Build and execute timelapse as chain of transforms"
   ]
  },
  {
   "cell_type": "code",
   "execution_count": 6,
   "metadata": {},
   "outputs": [
    {
     "name": "stderr",
     "output_type": "stream",
     "text": [
      "/usr/local/lib/python3.5/dist-packages/scipy/ndimage/interpolation.py:583: UserWarning: From scipy 0.13.0, the output shape of zoom() is calculated with round() instead of int() - for these inputs the size of the returned array has changed.\n",
      "  \"the returned array has changed.\", UserWarning)\n"
     ]
    }
   ],
   "source": [
    "timelapse = EOWorkflow.make_linear_workflow(wcs_task, add_clm, filter_task)\n",
    "result = timelapse.execute({wcs_task: {'bbox': roi_bbox, 'time_interval': time_interval}})"
   ]
  },
  {
   "cell_type": "markdown",
   "metadata": {},
   "source": [
    "Get result as an eopatch"
   ]
  },
  {
   "cell_type": "code",
   "execution_count": 7,
   "metadata": {},
   "outputs": [],
   "source": [
    "eopatch_clean, = [result[key] for key in result.keys()]"
   ]
  },
  {
   "cell_type": "markdown",
   "metadata": {},
   "source": [
    "#### Help function to create GIFs"
   ]
  },
  {
   "cell_type": "code",
   "execution_count": 8,
   "metadata": {},
   "outputs": [],
   "source": [
    "import imageio, os\n",
    "def make_gif(eopatch, project_dir, filename, fps):\n",
    "    \"\"\"\n",
    "    Generates a GIF animation from an EOPatch.\n",
    "    \"\"\"\n",
    "    with imageio.get_writer(os.path.join(project_dir, filename), mode='I', fps=fps) as writer:\n",
    "            for image in eopatch:\n",
    "                writer.append_data(np.array(image[..., [3, 2, 1]], dtype=np.uint8))"
   ]
  },
  {
   "cell_type": "markdown",
   "metadata": {},
   "source": [
    "Write clean EOPatch to GIF"
   ]
  },
  {
   "cell_type": "code",
   "execution_count": 9,
   "metadata": {},
   "outputs": [],
   "source": [
    "make_gif(eopatch=eopatch_clean.data['BANDS-S2-L1C']*2.5*255, project_dir='.', filename='eopatch_clean.gif', fps=3)"
   ]
  }
 ],
 "metadata": {
  "kernelspec": {
   "display_name": "Python 3",
   "language": "python",
   "name": "python3"
  },
  "language_info": {
   "codemirror_mode": {
    "name": "ipython",
    "version": 3
   },
   "file_extension": ".py",
   "mimetype": "text/x-python",
   "name": "python",
   "nbconvert_exporter": "python",
   "pygments_lexer": "ipython3",
   "version": "3.5.3"
  }
 },
 "nbformat": 4,
 "nbformat_minor": 2
}
