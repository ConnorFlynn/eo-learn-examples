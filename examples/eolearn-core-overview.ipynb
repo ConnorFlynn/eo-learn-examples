{
 "cells": [
  {
   "cell_type": "markdown",
   "metadata": {},
   "source": [
    "# Overview of `eolearn.core`\n",
    "\n",
    "`eolearn.core` is the main subpackage which implements basic building blocks (`EOPatch`, `EOTask` and `EOWorkflow`) and commonly used functionalities."
   ]
  },
  {
   "cell_type": "markdown",
   "metadata": {},
   "source": [
    "## EOPatch"
   ]
  },
  {
   "cell_type": "markdown",
   "metadata": {},
   "source": [
    "EOPatch is common data-object that contains contains multi-temporal remotely sensed data of a single patch (area) of Earth’s surface typically defined by a bounding box in specific coordinate reference system.\n",
    "\n",
    "There’s no limitation on the amount of data, or the type of data that can be stored. But typically, all of the information is internally stored in form of NumPy arrays as the following features:\n",
    "\n",
    "- DATA with shape t x n x m x d: time- and position-dependent remote sensing data (e.g. bands) of type float\n",
    "- MASK with shape t x n x m x d: time- and position-dependent mask (e.g. ground truth, cloud/shadow mask,\n",
    "super pixel identifier) of type int\n",
    "- SCALAR with shape t x s: time-dependent and position-independent remote sensing data (e.g. weather data,) of type\n",
    "float\n",
    "- LABEL with shape t x s: time-dependent and position-independent label (e.g. ground truth) of type int\n",
    "- VECTOR: a list of time-dependent vector shapes in shapely.geometry classes\n",
    "- DATA_TIMELESS with shape n x m x d: time-independent and position-dependent remote sensing data (e.g.\n",
    "elevation model) of type float\n",
    "- MASK_TIMELESS with shape n x m x d: time-independent and position-dependent mask (e.g. ground truth,\n",
    "region of interest mask) of type int\n",
    "- SCALAR_TIMELESS with shape s:  time-independent and position-independent remote sensing data of type float\n",
    "- LABEL_TIMELESS with shape s: time-independent and position-independent label of type int\n",
    "- VECTOR_TIMELESS: time-independent vector shapes in shapely.geometry classes\n",
    "- META_INFO: dictionary of additional info (e.g. resolution, time difference)\n",
    "- BBOX: bounding box of the patch which is an instance of sentinelhub.BBox\n",
    "- TIMESTAMP: list of dates which are instances of datetime.datetime"
   ]
  },
  {
   "cell_type": "markdown",
   "metadata": {},
   "source": [
    "Create an empty patch"
   ]
  },
  {
   "cell_type": "code",
   "execution_count": 1,
   "metadata": {},
   "outputs": [],
   "source": [
    "from eolearn.core import EOPatch\n",
    "\n",
    "patch = EOPatch()"
   ]
  },
  {
   "cell_type": "markdown",
   "metadata": {},
   "source": [
    "Set a feature to EOPatch"
   ]
  },
  {
   "cell_type": "code",
   "execution_count": 2,
   "metadata": {},
   "outputs": [],
   "source": [
    "from eolearn.core import FeatureType\n",
    "import numpy as np\n",
    "\n",
    "new_bands = np.zeros((5, 10, 10, 13), dtype=np.float32)\n",
    "\n",
    "patch[FeatureType.DATA]['bands'] = new_bands\n",
    "# or patch.data['bands'] = new_bands"
   ]
  },
  {
   "cell_type": "markdown",
   "metadata": {},
   "source": [
    "Display a string representation of EOPatch (using repr method)"
   ]
  },
  {
   "cell_type": "code",
   "execution_count": 3,
   "metadata": {},
   "outputs": [
    {
     "data": {
      "text/plain": [
       "EOPatch(\n",
       "  data: {\n",
       "    bands: <class 'numpy.ndarray'>, shape=(5, 10, 10, 13), dtype=float32\n",
       "  }\n",
       "  mask: {}\n",
       "  scalar: {}\n",
       "  label: {}\n",
       "  vector: {}\n",
       "  data_timeless: {}\n",
       "  mask_timeless: {}\n",
       "  scalar_timeless: {}\n",
       "  label_timeless: {}\n",
       "  vector_timeless: {}\n",
       "  meta_info: {}\n",
       "  bbox: None\n",
       "  timestamp: []\n",
       ")"
      ]
     },
     "execution_count": 3,
     "metadata": {},
     "output_type": "execute_result"
    }
   ],
   "source": [
    "patch"
   ]
  },
  {
   "cell_type": "markdown",
   "metadata": {},
   "source": [
    "Get all non-empty features of EOPatch"
   ]
  },
  {
   "cell_type": "code",
   "execution_count": 4,
   "metadata": {},
   "outputs": [
    {
     "data": {
      "text/plain": [
       "{<FeatureType.DATA: 'data'>: {'bands'}}"
      ]
     },
     "execution_count": 4,
     "metadata": {},
     "output_type": "execute_result"
    }
   ],
   "source": [
    "patch.get_features()"
   ]
  },
  {
   "cell_type": "markdown",
   "metadata": {},
   "source": [
    "Get a feature from EOPatch"
   ]
  },
  {
   "cell_type": "code",
   "execution_count": 5,
   "metadata": {},
   "outputs": [],
   "source": [
    "patch[FeatureType.DATA]['bands'];\n",
    "# or patch.data['bands']"
   ]
  },
  {
   "cell_type": "markdown",
   "metadata": {},
   "source": [
    "Save EOPatch"
   ]
  },
  {
   "cell_type": "code",
   "execution_count": 6,
   "metadata": {},
   "outputs": [],
   "source": [
    "patch.save('./example_patch')"
   ]
  },
  {
   "cell_type": "markdown",
   "metadata": {},
   "source": [
    "Load EOPatch"
   ]
  },
  {
   "cell_type": "code",
   "execution_count": 7,
   "metadata": {},
   "outputs": [],
   "source": [
    "patch2 = EOPatch.load('./example_patch')"
   ]
  },
  {
   "cell_type": "markdown",
   "metadata": {},
   "source": [
    "Compare EOPatches"
   ]
  },
  {
   "cell_type": "code",
   "execution_count": 8,
   "metadata": {},
   "outputs": [
    {
     "data": {
      "text/plain": [
       "True"
      ]
     },
     "execution_count": 8,
     "metadata": {},
     "output_type": "execute_result"
    }
   ],
   "source": [
    "patch == patch2"
   ]
  },
  {
   "cell_type": "markdown",
   "metadata": {},
   "source": [
    "Remove a feature from EOPatch"
   ]
  },
  {
   "cell_type": "code",
   "execution_count": 9,
   "metadata": {},
   "outputs": [],
   "source": [
    "del patch2[FeatureType.DATA]['bands']\n",
    "# or del patch.data['bands']"
   ]
  },
  {
   "cell_type": "markdown",
   "metadata": {},
   "source": [
    "Make a shallow and deep copy of EOPatch"
   ]
  },
  {
   "cell_type": "code",
   "execution_count": 10,
   "metadata": {},
   "outputs": [],
   "source": [
    "patch1 = patch.__copy__()\n",
    "patch2 = patch.__deepcopy__()"
   ]
  },
  {
   "cell_type": "code",
   "execution_count": 11,
   "metadata": {},
   "outputs": [
    {
     "data": {
      "text/plain": [
       "True"
      ]
     },
     "execution_count": 11,
     "metadata": {},
     "output_type": "execute_result"
    }
   ],
   "source": [
    "patch == patch1"
   ]
  },
  {
   "cell_type": "code",
   "execution_count": 12,
   "metadata": {},
   "outputs": [
    {
     "data": {
      "text/plain": [
       "True"
      ]
     },
     "execution_count": 12,
     "metadata": {},
     "output_type": "execute_result"
    }
   ],
   "source": [
    "patch == patch2"
   ]
  },
  {
   "cell_type": "markdown",
   "metadata": {},
   "source": [
    "Concatenate two EOPatches"
   ]
  },
  {
   "cell_type": "code",
   "execution_count": 13,
   "metadata": {},
   "outputs": [
    {
     "data": {
      "text/plain": [
       "EOPatch(\n",
       "  data: {\n",
       "    bands: <class 'numpy.ndarray'>, shape=(10, 10, 10, 13), dtype=float32\n",
       "    bands2: <class 'numpy.ndarray'>, shape=(5, 10, 10, 13), dtype=float32\n",
       "  }\n",
       "  mask: {}\n",
       "  scalar: {}\n",
       "  label: {}\n",
       "  vector: {}\n",
       "  data_timeless: {}\n",
       "  mask_timeless: {}\n",
       "  scalar_timeless: {}\n",
       "  label_timeless: {}\n",
       "  vector_timeless: {}\n",
       "  meta_info: {}\n",
       "  bbox: None\n",
       "  timestamp: []\n",
       ")"
      ]
     },
     "execution_count": 13,
     "metadata": {},
     "output_type": "execute_result"
    }
   ],
   "source": [
    "patch2[FeatureType.DATA]['bands2'] = new_bands\n",
    "\n",
    "patch + patch2\n",
    "# or EOPatch.concatenate(patch, patch2)"
   ]
  },
  {
   "cell_type": "markdown",
   "metadata": {},
   "source": [
    "## EOTask\n",
    "\n",
    "An EO task is any class the inherits from the abstract EOTask class. Each EO task has to implement the execute method; invoking __call__ on a EO task instance invokes the execute method. EO tasks are meant primarily to operate on EO patches (i.e. instances of EOPatch)."
   ]
  },
  {
   "cell_type": "markdown",
   "metadata": {},
   "source": [
    "Add a feature using the EOTask"
   ]
  },
  {
   "cell_type": "code",
   "execution_count": 14,
   "metadata": {},
   "outputs": [
    {
     "data": {
      "text/plain": [
       "EOPatch(\n",
       "  data: {\n",
       "    bands: <class 'numpy.ndarray'>, shape=(5, 100, 100, 13), dtype=float64\n",
       "  }\n",
       "  mask: {}\n",
       "  scalar: {}\n",
       "  label: {}\n",
       "  vector: {}\n",
       "  data_timeless: {}\n",
       "  mask_timeless: {}\n",
       "  scalar_timeless: {}\n",
       "  label_timeless: {}\n",
       "  vector_timeless: {}\n",
       "  meta_info: {}\n",
       "  bbox: None\n",
       "  timestamp: []\n",
       ")"
      ]
     },
     "execution_count": 14,
     "metadata": {},
     "output_type": "execute_result"
    }
   ],
   "source": [
    "from eolearn.core import AddFeature\n",
    "\n",
    "patch = EOPatch()\n",
    "\n",
    "feature = (FeatureType.DATA, 'bands')\n",
    "add_feature = AddFeature(feature)\n",
    "\n",
    "data = np.zeros((5, 100, 100, 13))\n",
    "patch = add_feature.execute(patch, data)\n",
    "# or patch = add_feature(patch, data)\n",
    "\n",
    "patch"
   ]
  },
  {
   "cell_type": "markdown",
   "metadata": {},
   "source": [
    "Create a composite task using a multiplication operator (`a * b`) function"
   ]
  },
  {
   "cell_type": "code",
   "execution_count": 15,
   "metadata": {},
   "outputs": [
    {
     "data": {
      "text/plain": [
       "EOPatch(\n",
       "  data: {\n",
       "    the_bands: <class 'numpy.ndarray'>, shape=(5, 100, 100, 13), dtype=float64\n",
       "  }\n",
       "  mask: {}\n",
       "  scalar: {}\n",
       "  label: {}\n",
       "  vector: {}\n",
       "  data_timeless: {}\n",
       "  mask_timeless: {}\n",
       "  scalar_timeless: {}\n",
       "  label_timeless: {}\n",
       "  vector_timeless: {}\n",
       "  meta_info: {}\n",
       "  bbox: None\n",
       "  timestamp: []\n",
       ")"
      ]
     },
     "execution_count": 15,
     "metadata": {},
     "output_type": "execute_result"
    }
   ],
   "source": [
    "from eolearn.core import CopyTask, RenameFeature\n",
    "\n",
    "copy_task = CopyTask()\n",
    "rename_feature = RenameFeature((FeatureType.DATA, 'bands', 'the_bands'))\n",
    "copy_rename_task = rename_feature * copy_task\n",
    "new_patch = copy_rename_task(patch)\n",
    "\n",
    "new_patch"
   ]
  },
  {
   "cell_type": "markdown",
   "metadata": {},
   "source": [
    "If a task doesn’t exist yet, the user can implement it and easily include it into his/hers workflow. There is very little or almost no overhead in the implementation of a new EOTask as seen from this minimal example"
   ]
  },
  {
   "cell_type": "code",
   "execution_count": 16,
   "metadata": {},
   "outputs": [],
   "source": [
    "from eolearn.core import EOTask\n",
    "\n",
    "class FooTask(EOTask):\n",
    "    def __init__(self, foo_param):\n",
    "        self.foo_param = foo_param\n",
    "\n",
    "    def execute(self, eopatch, *, patch_specific_param):\n",
    "        # do what foo does on input eopatch and return it\n",
    "        return eopatch"
   ]
  },
  {
   "cell_type": "markdown",
   "metadata": {},
   "source": [
    "EOTask’s arguments are either static (set when EOTask is initialized; i.e.e foo_param above) or dynamic (set during the execution of the workflow; i.e. patch_specific_param above)."
   ]
  },
  {
   "cell_type": "markdown",
   "metadata": {},
   "source": [
    "The list of all EOTasks in the `eolearn.core` subpackage is available here https://eo-learn.readthedocs.io/en/latest/eotasks.html#core"
   ]
  },
  {
   "cell_type": "markdown",
   "metadata": {},
   "source": [
    "## EOWorkflow\n",
    "\n",
    "A workflow is a directed (acyclic) graph composed of instances of EOTask objects. Each task may take as input the results of other tasks and external arguments. The external arguments are passed anew each time the workflow is executed. The workflow builds the computational graph, performs dependency resolution, and executes the tasks. If the input graph is cyclic, the workflow raises a CyclicDependencyError.\n",
    "\n",
    "The result of a workflow execution is an immutable mapping from tasks to results. The result contains tasks with zero out-degree (i.e. terminal tasks)."
   ]
  },
  {
   "cell_type": "markdown",
   "metadata": {},
   "source": [
    "Create a workflow"
   ]
  },
  {
   "cell_type": "code",
   "execution_count": 17,
   "metadata": {},
   "outputs": [
    {
     "data": {
      "text/plain": [
       "WorkflowResults(\n",
       "  Dependency(RenameFeature): EOPatch(\n",
       "  data: {\n",
       "    the_bands: <class 'numpy.ndarray'>, shape=(5, 10, 10, 13), dtype=float32\n",
       "  }\n",
       "  mask: {}\n",
       "  scalar: {}\n",
       "  label: {}\n",
       "  vector: {}\n",
       "  data_timeless: {}\n",
       "  mask_timeless: {}\n",
       "  scalar_timeless: {}\n",
       "  label_timeless: {}\n",
       "  vector_timeless: {}\n",
       "  meta_info: {}\n",
       "  bbox: None\n",
       "  timestamp: []\n",
       ")\n",
       ")"
      ]
     },
     "execution_count": 17,
     "metadata": {},
     "output_type": "execute_result"
    }
   ],
   "source": [
    "from eolearn.core import EOWorkflow, Dependency\n",
    "\n",
    "workflow = EOWorkflow(dependencies=[\n",
    "    Dependency(transform=add_feature, inputs=[]),\n",
    "    Dependency(transform=copy_task, inputs=[add_feature]),\n",
    "    Dependency(transform=rename_feature, inputs=[copy_task])]\n",
    ")\n",
    "                                    \n",
    "result = workflow.execute({\n",
    "    add_feature: {'eopatch': patch,\n",
    "                  'data': new_bands}\n",
    "})\n",
    "                                    \n",
    "result"
   ]
  },
  {
   "cell_type": "markdown",
   "metadata": {},
   "source": [
    "Display the dependency graph"
   ]
  },
  {
   "cell_type": "code",
   "execution_count": 18,
   "metadata": {},
   "outputs": [
    {
     "data": {
      "image/png": "[encoded data removed]",
      "text/plain": [
       "<Figure size 432x288 with 1 Axes>"
      ]
     },
     "metadata": {},
     "output_type": "display_data"
    }
   ],
   "source": [
    "%matplotlib inline\n",
    "\n",
    "workflow.dependency_graph('graph.png', view=True)"
   ]
  },
  {
   "cell_type": "markdown",
   "metadata": {},
   "source": [
    "For a linear workflow such as previous one you can use `EOWorkflow.make_linear_workflow` function"
   ]
  },
  {
   "cell_type": "code",
   "execution_count": 19,
   "metadata": {},
   "outputs": [
    {
     "data": {
      "image/png": "[encoded data removed]",
      "text/plain": [
       "<Figure size 432x288 with 1 Axes>"
      ]
     },
     "metadata": {},
     "output_type": "display_data"
    }
   ],
   "source": [
    "workflow = EOWorkflow.make_linear_workflow(add_feature, copy_task, rename_feature)\n",
    "\n",
    "result = workflow.execute({\n",
    "    add_feature: {'eopatch': patch,\n",
    "                  'data': new_bands}\n",
    "})\n",
    "                                    \n",
    "workflow.dependency_graph('graph.png', view=True)"
   ]
  },
  {
   "cell_type": "markdown",
   "metadata": {},
   "source": [
    "## EOExecutor\n",
    "\n",
    "EOExecutor handles execution and monitoring of workflows. It enables executing a workflow multiple times and in parallel. It monitors execution times and handles any error that might occur in the process. At the end it generates a report which contains summary of the workflow and process of execution."
   ]
  },
  {
   "cell_type": "markdown",
   "metadata": {},
   "source": [
    "Execute previously defined workflow with different arguments"
   ]
  },
  {
   "cell_type": "code",
   "execution_count": 20,
   "metadata": {},
   "outputs": [],
   "source": [
    "from eolearn.core import EOExecutor\n",
    "\n",
    "execution_args = [\n",
    "    {add_feature: {'eopatch': patch,\n",
    "                  'data': new_bands}},\n",
    "    {add_feature: {'eopatch': patch,\n",
    "                  'data': new_bands - 1}},\n",
    "    {add_feature: {'eopatch': patch,\n",
    "                  'data': new_bands * 10}},\n",
    "]\n",
    "\n",
    "executor = EOExecutor(workflow, execution_args)\n",
    "\n",
    "executor.run()"
   ]
  },
  {
   "cell_type": "markdown",
   "metadata": {},
   "source": [
    "Make the report"
   ]
  },
  {
   "cell_type": "code",
   "execution_count": 21,
   "metadata": {},
   "outputs": [
    {
     "name": "stdout",
     "output_type": "stream",
     "text": [
      "Using matplotlib backend: TkAgg\n",
      "Using matplotlib backend: TkAgg\n"
     ]
    }
   ],
   "source": [
    "# disable plotting\n",
    "%matplotlib\n",
    "%matplotlib\n",
    "\n",
    "html_report = executor.make_report()"
   ]
  },
  {
   "cell_type": "markdown",
   "metadata": {},
   "source": [
    "Display the report inside the notebook"
   ]
  },
  {
   "cell_type": "code",
   "execution_count": 22,
   "metadata": {
    "scrolled": false
   },
   "outputs": [],
   "source": [
    "from IPython.core.display import display, HTML\n",
    "\n",
    "# display(HTML(html_report))"
   ]
  }
 ],
 "metadata": {
  "kernelspec": {
   "display_name": "Python 3",
   "language": "python",
   "name": "python3"
  },
  "language_info": {
   "codemirror_mode": {
    "name": "ipython",
    "version": 3
   },
   "file_extension": ".py",
   "mimetype": "text/x-python",
   "name": "python",
   "nbconvert_exporter": "python",
   "pygments_lexer": "ipython3",
   "version": "3.6.6"
  }
 },
 "nbformat": 4,
 "nbformat_minor": 2
}
