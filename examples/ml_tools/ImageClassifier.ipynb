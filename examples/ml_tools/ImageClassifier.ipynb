{
 "cells": [
  {
   "cell_type": "markdown",
   "metadata": {},
   "source": [
    "# Toy example of ImagePixelClassifier and ImagePatchClassifier"
   ]
  },
  {
   "cell_type": "markdown",
   "metadata": {},
   "source": [
    "This notebook shows the usage of the image classsifiers on a toy example "
   ]
  },
  {
   "cell_type": "code",
   "execution_count": 1,
   "metadata": {},
   "outputs": [],
   "source": [
    "%reload_ext autoreload\n",
    "%autoreload 2"
   ]
  },
  {
   "cell_type": "code",
   "execution_count": 2,
   "metadata": {},
   "outputs": [],
   "source": [
    "import numpy as np\n",
    "import itertools"
   ]
  },
  {
   "cell_type": "markdown",
   "metadata": {},
   "source": [
    "Import classifier classes "
   ]
  },
  {
   "cell_type": "code",
   "execution_count": 3,
   "metadata": {},
   "outputs": [],
   "source": [
    "from eolearn.ml_tools import ImagePixelClassifier, ImagePatchClassifier"
   ]
  },
  {
   "cell_type": "markdown",
   "metadata": {},
   "source": [
    "## Create dummy patch classifier"
   ]
  },
  {
   "cell_type": "markdown",
   "metadata": {},
   "source": [
    "- predict: returns maximum value in an array\n",
    "- predict_proba: returns maxiumum and minimum value in an array"
   ]
  },
  {
   "cell_type": "code",
   "execution_count": 4,
   "metadata": {},
   "outputs": [],
   "source": [
    "class DummyPatchClassifier():\n",
    "    def __init__(self, receptive_field):\n",
    "        self.receptive_field = receptive_field\n",
    "    \n",
    "    def _predict(self, X):\n",
    "        return np.max(X)\n",
    "    \n",
    "    def _predict_proba(self, X):\n",
    "        return np.max(X), np.min(X)\n",
    "    \n",
    "    def predict(self, X):        \n",
    "        if X.shape[1:3] == self.receptive_field:\n",
    "            return np.asarray([self._predict(example) for example in X],dtype=np.int)\n",
    "        else:\n",
    "            raise ValueError('Dummy Classifier: input of incorrect shape')\n",
    "        \n",
    "    def predict_proba(self, X):\n",
    "        if X.shape[1:3] == self.receptive_field:\n",
    "            return np.asarray([self._predict_proba(example) for example in X],dtype=np.float)\n",
    "        else:\n",
    "            raise ValueError('Dummy Classifier: input of incorrect shape')"
   ]
  },
  {
   "cell_type": "markdown",
   "metadata": {},
   "source": [
    "## Create dummy data set"
   ]
  },
  {
   "cell_type": "markdown",
   "metadata": {},
   "source": [
    "50 images of size 10 x 10 x 3 bands"
   ]
  },
  {
   "cell_type": "code",
   "execution_count": 5,
   "metadata": {},
   "outputs": [],
   "source": [
    "X = np.random.randint(0,100,(50,10,10,3))"
   ]
  },
  {
   "cell_type": "code",
   "execution_count": 6,
   "metadata": {},
   "outputs": [
    {
     "data": {
      "text/plain": [
       "(50, 10, 10, 3)"
      ]
     },
     "execution_count": 6,
     "metadata": {},
     "output_type": "execute_result"
    }
   ],
   "source": [
    "X.shape"
   ]
  },
  {
   "cell_type": "code",
   "execution_count": 7,
   "metadata": {},
   "outputs": [
    {
     "data": {
      "text/plain": [
       "array([[78, 23, 13, 63, 17, 67, 93, 58, 79, 34],\n",
       "       [43, 35, 96, 23, 18, 18, 28, 14, 53, 31],\n",
       "       [98, 94, 87,  2, 73, 62, 31,  4, 86, 12],\n",
       "       [59, 78, 85, 64, 93, 89, 29, 45, 34, 30],\n",
       "       [67, 23,  1,  9, 10, 71, 33, 38, 99, 78],\n",
       "       [37, 99, 75, 16, 86, 20, 48, 55, 39, 33],\n",
       "       [80, 68, 86, 23,  5,  8, 51,  9, 43, 75],\n",
       "       [16, 59, 40, 87, 23, 90, 35, 28,  8, 68],\n",
       "       [81, 46, 72, 14, 49, 89, 56, 67, 18, 94],\n",
       "       [35, 87, 82, 30,  7, 29, 98, 35, 10, 56]])"
      ]
     },
     "execution_count": 7,
     "metadata": {},
     "output_type": "execute_result"
    }
   ],
   "source": [
    "X[0,:,:,2]"
   ]
  },
  {
   "cell_type": "markdown",
   "metadata": {},
   "source": [
    "## Create `ImagePatchClassifier` and initialise it with `DummyPatchClassifier`"
   ]
  },
  {
   "cell_type": "code",
   "execution_count": 8,
   "metadata": {},
   "outputs": [],
   "source": [
    "receptive_field = (2,2)\n",
    "dummy_classifier = DummyPatchClassifier(receptive_field=receptive_field)"
   ]
  },
  {
   "cell_type": "code",
   "execution_count": 9,
   "metadata": {},
   "outputs": [],
   "source": [
    "patch_classifier = ImagePatchClassifier(dummy_classifier, dummy_classifier.receptive_field)"
   ]
  },
  {
   "cell_type": "markdown",
   "metadata": {},
   "source": [
    "### `predict` (run classifier over all patches and collect results)"
   ]
  },
  {
   "cell_type": "code",
   "execution_count": 10,
   "metadata": {},
   "outputs": [],
   "source": [
    "Xprediction = patch_classifier.image_predict(X)"
   ]
  },
  {
   "cell_type": "code",
   "execution_count": 11,
   "metadata": {},
   "outputs": [
    {
     "data": {
      "text/plain": [
       "(50, 10, 10)"
      ]
     },
     "execution_count": 11,
     "metadata": {},
     "output_type": "execute_result"
    }
   ],
   "source": [
    "Xprediction.shape"
   ]
  },
  {
   "cell_type": "code",
   "execution_count": 12,
   "metadata": {},
   "outputs": [
    {
     "data": {
      "text/plain": [
       "array([[78., 78., 96., 96., 99., 99., 93., 93., 93., 93.],\n",
       "       [78., 78., 96., 96., 99., 99., 93., 93., 93., 93.],\n",
       "       [98., 98., 87., 87., 93., 93., 94., 94., 86., 86.],\n",
       "       [98., 98., 87., 87., 93., 93., 94., 94., 86., 86.],\n",
       "       [99., 99., 77., 77., 97., 97., 98., 98., 99., 99.],\n",
       "       [99., 99., 77., 77., 97., 97., 98., 98., 99., 99.],\n",
       "       [80., 80., 96., 96., 95., 95., 51., 51., 96., 96.],\n",
       "       [80., 80., 96., 96., 95., 95., 51., 51., 96., 96.],\n",
       "       [94., 94., 91., 91., 89., 89., 98., 98., 94., 94.],\n",
       "       [94., 94., 91., 91., 89., 89., 98., 98., 94., 94.]])"
      ]
     },
     "execution_count": 12,
     "metadata": {},
     "output_type": "execute_result"
    }
   ],
   "source": [
    "Xprediction[0]"
   ]
  },
  {
   "cell_type": "code",
   "execution_count": 13,
   "metadata": {},
   "outputs": [
    {
     "name": "stdout",
     "output_type": "stream",
     "text": [
      "True\n"
     ]
    }
   ],
   "source": [
    "equal = True\n",
    "for i, j, k in itertools.product(range(0,5), range(0,5), range(0,50)):\n",
    "    if int(Xprediction[k,2*i,2*j]) != np.max(X[k,2*i:2*i+2,2*j:2*j+2,:]):\n",
    "        print(Xprediction[k,i,j])\n",
    "        print(np.max(X[k,2*i:2*i+2,2*j:2*j+2,:]))\n",
    "        equal = False\n",
    "        break\n",
    "    \n",
    "print(equal)"
   ]
  },
  {
   "cell_type": "markdown",
   "metadata": {},
   "source": [
    "### `predict_proba` (run classifier over all patches and collect results)"
   ]
  },
  {
   "cell_type": "code",
   "execution_count": 14,
   "metadata": {},
   "outputs": [],
   "source": [
    "Xprobabilities = patch_classifier.image_predict_proba(X)"
   ]
  },
  {
   "cell_type": "code",
   "execution_count": 15,
   "metadata": {},
   "outputs": [
    {
     "data": {
      "text/plain": [
       "(50, 10, 10, 2)"
      ]
     },
     "execution_count": 15,
     "metadata": {},
     "output_type": "execute_result"
    }
   ],
   "source": [
    "Xprobabilities.shape"
   ]
  },
  {
   "cell_type": "code",
   "execution_count": 16,
   "metadata": {},
   "outputs": [
    {
     "data": {
      "text/plain": [
       "True"
      ]
     },
     "execution_count": 16,
     "metadata": {},
     "output_type": "execute_result"
    }
   ],
   "source": [
    "np.array_equal(Xprediction,Xprobabilities[:,:,:,0])"
   ]
  },
  {
   "cell_type": "code",
   "execution_count": 17,
   "metadata": {},
   "outputs": [
    {
     "name": "stdout",
     "output_type": "stream",
     "text": [
      "True\n"
     ]
    }
   ],
   "source": [
    "equal = True\n",
    "for i, j, k in itertools.product(range(0,5), range(0,5), range(0,50)):\n",
    "    if int(Xprobabilities[k,2*i,2*j,1]) != np.min(X[k,2*i:2*i+2,2*j:2*j+2,:]):\n",
    "        equal = False\n",
    "        break\n",
    "    \n",
    "print(equal)"
   ]
  },
  {
   "cell_type": "markdown",
   "metadata": {},
   "source": [
    "## Create `DummyPixelClassifier` and `ImagePixelClassifier`"
   ]
  },
  {
   "cell_type": "code",
   "execution_count": 18,
   "metadata": {},
   "outputs": [],
   "source": [
    "class DummyPixelClassifier():\n",
    "    def _predict(self, X):\n",
    "        return np.max(X)\n",
    "    \n",
    "    def _predict_proba(self, X):\n",
    "        return np.max(X), np.min(X)\n",
    "    \n",
    "    def predict(self, X):\n",
    "        return np.asarray([self._predict(example) for example in X],dtype=np.int)\n",
    "        \n",
    "    def predict_proba(self, X):\n",
    "        return np.asarray([self._predict_proba(example) for example in X],dtype=np.float)"
   ]
  },
  {
   "cell_type": "code",
   "execution_count": 19,
   "metadata": {},
   "outputs": [],
   "source": [
    "dummy_pixel_classifier = DummyPixelClassifier()"
   ]
  },
  {
   "cell_type": "code",
   "execution_count": 20,
   "metadata": {},
   "outputs": [],
   "source": [
    "pixel_classifier = ImagePixelClassifier(dummy_pixel_classifier)"
   ]
  },
  {
   "cell_type": "markdown",
   "metadata": {},
   "source": [
    "### `predict` (run classifier over all patches and collect results)"
   ]
  },
  {
   "cell_type": "code",
   "execution_count": 21,
   "metadata": {},
   "outputs": [],
   "source": [
    "Xprediction = pixel_classifier.image_predict(X)"
   ]
  },
  {
   "cell_type": "code",
   "execution_count": 22,
   "metadata": {},
   "outputs": [
    {
     "data": {
      "text/plain": [
       "(50, 10, 10)"
      ]
     },
     "execution_count": 22,
     "metadata": {},
     "output_type": "execute_result"
    }
   ],
   "source": [
    "Xprediction.shape"
   ]
  },
  {
   "cell_type": "code",
   "execution_count": 23,
   "metadata": {},
   "outputs": [
    {
     "data": {
      "text/plain": [
       "True"
      ]
     },
     "execution_count": 23,
     "metadata": {},
     "output_type": "execute_result"
    }
   ],
   "source": [
    "np.array_equal(Xprediction, np.max(X,axis=3))"
   ]
  },
  {
   "cell_type": "markdown",
   "metadata": {},
   "source": [
    "### `predict_proba` (run classifier over all patches and collect results)"
   ]
  },
  {
   "cell_type": "code",
   "execution_count": 24,
   "metadata": {},
   "outputs": [],
   "source": [
    "Xprobabilities = pixel_classifier.image_predict_proba(X)"
   ]
  },
  {
   "cell_type": "code",
   "execution_count": 25,
   "metadata": {},
   "outputs": [
    {
     "data": {
      "text/plain": [
       "(50, 10, 10, 2)"
      ]
     },
     "execution_count": 25,
     "metadata": {},
     "output_type": "execute_result"
    }
   ],
   "source": [
    "Xprobabilities.shape"
   ]
  },
  {
   "cell_type": "code",
   "execution_count": 26,
   "metadata": {},
   "outputs": [
    {
     "data": {
      "text/plain": [
       "True"
      ]
     },
     "execution_count": 26,
     "metadata": {},
     "output_type": "execute_result"
    }
   ],
   "source": [
    "np.array_equal(Xprobabilities[...,1], np.min(X,axis=3))"
   ]
  }
 ],
 "metadata": {
  "kernelspec": {
   "display_name": "Python 3",
   "language": "python",
   "name": "python3"
  },
  "language_info": {
   "codemirror_mode": {
    "name": "ipython",
    "version": 3
   },
   "file_extension": ".py",
   "mimetype": "text/x-python",
   "name": "python",
   "nbconvert_exporter": "python",
   "pygments_lexer": "ipython3",
   "version": "3.5.3"
  }
 },
 "nbformat": 4,
 "nbformat_minor": 2
}
